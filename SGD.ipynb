{
 "cells": [
  {
   "cell_type": "code",
   "execution_count": null,
   "metadata": {},
   "outputs": [],
   "source": [
    "import numpy as np\n",
    "\n",
    "def stochastic_gradient_descent(X, y, learning_rate=0.01, n_epochs=100, batch_size=32):\n",
    "    n_samples, n_features = X.shape\n",
    "    n_batches = n_samples\n",
    "    \n",
    "    # Initialize random weights\n",
    "    weights = np.random.randn(n_features)\n",
    "    \n",
    "    for epoch in range(n_epochs):\n",
    "        # Shuffle the data\n",
    "        #p.random.permutation - Randomly permute a sequence, or return a permuted range.\n",
    "        indices = np.random.permutation(n_samples)\n",
    "        X_shuffled = X[indices]\n",
    "        y_shuffled = y[indices]\n",
    "        \n",
    "        for batch in range(n_batches):\n",
    "            # Get the current batch\n",
    "            start = batch * batch_size\n",
    "            end = start + batch_size\n",
    "            X_batch = X_shuffled[start:end]\n",
    "            y_batch = y_shuffled[start:end]\n",
    "            \n",
    "            # Compute the gradient of the loss with respect to the weights\n",
    "            y_pred = np.dot(X_batch, weights)\n",
    "            error = y_pred - y_batch\n",
    "            grad = np.dot(X_batch.T, error) / batch_size\n",
    "            \n",
    "            # Update the weights\n",
    "            weights -= learning_rate * grad\n",
    "            \n",
    "    return weights\n"
   ]
  }
 ],
 "metadata": {
  "language_info": {
   "name": "python"
  },
  "orig_nbformat": 4
 },
 "nbformat": 4,
 "nbformat_minor": 2
}
