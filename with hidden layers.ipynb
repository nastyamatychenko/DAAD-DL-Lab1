{
 "cells": [
  {
   "attachments": {},
   "cell_type": "markdown",
   "metadata": {},
   "source": [
    "### Neural Network Realisation"
   ]
  },
  {
   "cell_type": "code",
   "execution_count": 1,
   "metadata": {},
   "outputs": [],
   "source": [
    "import numpy as np\n",
    "\n",
    "# Define sigmoid function and its derivative\n",
    "def sigmoid(x):\n",
    "    return 1 / (1 + np.exp(-x))\n",
    "\n",
    "def sigmoid_derivative(x):\n",
    "    return x * (1 - x)\n",
    "\n",
    "# Define neural network class\n",
    "class NeuralNetwork:\n",
    "    def __init__(self, input_size, hidden_size, output_size):\n",
    "        self.input_size = input_size\n",
    "        self.hidden_size = hidden_size\n",
    "        self.output_size = output_size\n",
    "        \n",
    "        # Initialize weights and biases\n",
    "        self.W1 = np.random.randn(self.input_size, self.hidden_size)\n",
    "        self.b1 = np.zeros((1, self.hidden_size))\n",
    "        self.W2 = np.random.randn(self.hidden_size, self.output_size)\n",
    "        self.b2 = np.zeros((1, self.output_size))\n",
    "        \n",
    "    def feedforward(self, X):\n",
    "        # Calculate activations for hidden layer\n",
    "        self.z1 = np.dot(X, self.W1) + self.b1\n",
    "        self.a1 = sigmoid(self.z1)\n",
    "        \n",
    "        # Calculate activations for output layer\n",
    "        self.z2 = np.dot(self.a1, self.W2) + self.b2\n",
    "        self.a2 = sigmoid(self.z2)\n",
    "        \n",
    "        return self.a2\n",
    "    \n",
    "    def backpropagation(self, X, y, learning_rate):\n",
    "        # Calculate error and delta for output layer\n",
    "        error = y - self.a2\n",
    "        delta2 = error * sigmoid_derivative(self.a2)\n",
    "        \n",
    "        # Calculate error and delta for hidden layer\n",
    "        error_hidden = delta2.dot(self.W2.T)\n",
    "        delta1 = error_hidden * sigmoid_derivative(self.a1)\n",
    "        \n",
    "        # Update weights and biases\n",
    "        self.W2 += self.a1.T.dot(delta2) * learning_rate\n",
    "        self.b2 += np.sum(delta2, axis=0, keepdims=True) * learning_rate\n",
    "        self.W1 += X.T.dot(delta1) * learning_rate\n",
    "        self.b1 += np.sum(delta1, axis=0, keepdims=True) * learning_rate\n",
    "        \n",
    "    def train(self, X, y, learning_rate, epochs):\n",
    "        for i in range(epochs):\n",
    "            output = self.feedforward(X)\n",
    "            self.backpropagation(X, y, learning_rate)\n",
    "            if i % 1000 == 0:\n",
    "                print(\"Epoch\", i, \"loss\", np.mean(np.abs(y - output)))\n",
    "                \n",
    "    def predict(self, X):\n",
    "        return self.feedforward(X)\n"
   ]
  },
  {
   "cell_type": "code",
   "execution_count": 2,
   "metadata": {},
   "outputs": [],
   "source": [
    "input_size = 2\n",
    "hidden_size = 4\n",
    "output_size = 1\n",
    "\n",
    "nn = NeuralNetwork(input_size, hidden_size, output_size)"
   ]
  },
  {
   "attachments": {},
   "cell_type": "markdown",
   "metadata": {},
   "source": [
    "### Train"
   ]
  },
  {
   "cell_type": "code",
   "execution_count": 3,
   "metadata": {},
   "outputs": [
    {
     "name": "stdout",
     "output_type": "stream",
     "text": [
      "Epoch 0 loss 0.4930653806115638\n",
      "Epoch 1000 loss 0.43596670958771033\n",
      "Epoch 2000 loss 0.3228835806720458\n",
      "Epoch 3000 loss 0.1707909600523179\n",
      "Epoch 4000 loss 0.11074048977086903\n",
      "Epoch 5000 loss 0.08442209598585781\n",
      "Epoch 6000 loss 0.06962056443974765\n",
      "Epoch 7000 loss 0.06002055149650692\n",
      "Epoch 8000 loss 0.05322286282394971\n",
      "Epoch 9000 loss 0.048117980730347384\n"
     ]
    }
   ],
   "source": [
    "X = np.array([[0, 0], [0, 1], [1, 0], [1, 1]])\n",
    "y = np.array([[0], [1], [1], [0]])\n",
    "\n",
    "learning_rate = 0.1\n",
    "epochs = 10000\n",
    "\n",
    "nn.train(X, y, learning_rate, epochs)"
   ]
  },
  {
   "attachments": {},
   "cell_type": "markdown",
   "metadata": {},
   "source": [
    "### Predict"
   ]
  },
  {
   "cell_type": "code",
   "execution_count": 5,
   "metadata": {},
   "outputs": [
    {
     "name": "stdout",
     "output_type": "stream",
     "text": [
      "[[0.0254578 ]\n",
      " [0.95373778]\n",
      " [0.95249144]\n",
      " [0.05725197]]\n"
     ]
    }
   ],
   "source": [
    "test_data = np.array([[0, 0], [0, 1], [1, 0], [1, 1]])\n",
    "predictions = nn.predict(test_data)\n",
    "print(predictions)"
   ]
  }
 ],
 "metadata": {
  "kernelspec": {
   "display_name": "base",
   "language": "python",
   "name": "python3"
  },
  "language_info": {
   "codemirror_mode": {
    "name": "ipython",
    "version": 3
   },
   "file_extension": ".py",
   "mimetype": "text/x-python",
   "name": "python",
   "nbconvert_exporter": "python",
   "pygments_lexer": "ipython3",
   "version": "3.9.7"
  },
  "orig_nbformat": 4
 },
 "nbformat": 4,
 "nbformat_minor": 2
}
